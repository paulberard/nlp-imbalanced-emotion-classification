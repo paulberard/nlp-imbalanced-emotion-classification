{
 "cells": [
  {
   "cell_type": "code",
   "execution_count": 1,
   "metadata": {},
   "outputs": [
    {
     "name": "stdout",
     "output_type": "stream",
     "text": [
      "Better speed can be achieved with apex installed from https://www.github.com/nvidia/apex.\n"
     ]
    }
   ],
   "source": [
    "import torch\n",
    "import pandas as pd\n",
    "import numpy as np\n",
    "from tqdm import tqdm\n",
    "from pytorch_pretrained_bert import BertModel, BertTokenizer\n",
    "from models import BertModelHT"
   ]
  },
  {
   "cell_type": "code",
   "execution_count": 2,
   "metadata": {},
   "outputs": [
    {
     "data": {
      "text/plain": [
       "BertModel(\n",
       "  (embeddings): BertEmbeddings(\n",
       "    (word_embeddings): Embedding(119547, 768)\n",
       "    (position_embeddings): Embedding(512, 768)\n",
       "    (token_type_embeddings): Embedding(2, 768)\n",
       "    (LayerNorm): BertLayerNorm()\n",
       "    (dropout): Dropout(p=0.1, inplace=False)\n",
       "  )\n",
       "  (encoder): BertEncoder(\n",
       "    (layer): ModuleList(\n",
       "      (0-11): 12 x BertLayer(\n",
       "        (attention): BertAttention(\n",
       "          (self): BertSelfAttention(\n",
       "            (query): Linear(in_features=768, out_features=768, bias=True)\n",
       "            (key): Linear(in_features=768, out_features=768, bias=True)\n",
       "            (value): Linear(in_features=768, out_features=768, bias=True)\n",
       "            (dropout): Dropout(p=0.1, inplace=False)\n",
       "          )\n",
       "          (output): BertSelfOutput(\n",
       "            (dense): Linear(in_features=768, out_features=768, bias=True)\n",
       "            (LayerNorm): BertLayerNorm()\n",
       "            (dropout): Dropout(p=0.1, inplace=False)\n",
       "          )\n",
       "        )\n",
       "        (intermediate): BertIntermediate(\n",
       "          (dense): Linear(in_features=768, out_features=3072, bias=True)\n",
       "        )\n",
       "        (output): BertOutput(\n",
       "          (dense): Linear(in_features=3072, out_features=768, bias=True)\n",
       "          (LayerNorm): BertLayerNorm()\n",
       "          (dropout): Dropout(p=0.1, inplace=False)\n",
       "        )\n",
       "      )\n",
       "    )\n",
       "  )\n",
       "  (pooler): BertPooler(\n",
       "    (dense): Linear(in_features=768, out_features=768, bias=True)\n",
       "    (activation): Tanh()\n",
       "  )\n",
       ")"
      ]
     },
     "execution_count": 2,
     "metadata": {},
     "output_type": "execute_result"
    }
   ],
   "source": [
    "# Load pre-trained model tokenizer (vocabulary-multilingual)\n",
    "tokenizer = BertTokenizer.from_pretrained('bert-base-multilingual-cased')\n",
    "\n",
    "modelHT = BertModelHT.from_pretrained('bert-base-multilingual-cased')\n",
    "modelHT.eval()\n",
    "\n",
    "model = BertModel.from_pretrained('bert-base-multilingual-cased')\n",
    "model.eval()"
   ]
  },
  {
   "cell_type": "code",
   "execution_count": 3,
   "metadata": {},
   "outputs": [
    {
     "name": "stderr",
     "output_type": "stream",
     "text": [
      "100%|██████████| 2000/2000 [02:07<00:00, 15.72it/s]\n"
     ]
    }
   ],
   "source": [
    "DATA_PATH = \"/Users/cha/Desktop/Code/nlp-codes/nlp-intent-classification/data/full_dataset/goemotions_1.csv\"\n",
    "\n",
    "df = pd.read_csv(DATA_PATH)\n",
    "df = df[[\"text\"]].copy()\n",
    "heavytailed = []\n",
    "normal = []\n",
    "\n",
    "for i in tqdm(df.iloc[:2000].index):\n",
    "    text = df[\"text\"].iloc[i]\n",
    "    marked_text = \"[CLS] \" + text + \" [SEP]\"\n",
    "\n",
    "    # Tokenize our sentence with the BERT tokenizer.\n",
    "    tokenized_text = tokenizer.tokenize(marked_text)\n",
    "    segments_ids = [1] * len(tokenized_text)\n",
    "\n",
    "    # Map the token strings to their vocabulary indeces.\n",
    "    indexed_tokens = tokenizer.convert_tokens_to_ids(tokenized_text)\n",
    "\n",
    "    # Convert inputs to PyTorch tensors\n",
    "    tokens_tensor = torch.tensor([indexed_tokens])\n",
    "    segments_tensors = torch.tensor([segments_ids])\n",
    "\n",
    "    # Predict hidden states features for each layer\n",
    "    with torch.no_grad():\n",
    "        encoded_layersHT, _ = modelHT(tokens_tensor, segments_tensors)\n",
    "        encoded_layers, _ = model(tokens_tensor, segments_tensors)\n",
    "\n",
    "    # Concatenate the tensors for all layers. We use `stack` here to\n",
    "    # create a new dimension in the tensor.\n",
    "    token_embeddingsHT = torch.stack(encoded_layersHT, dim=0)\n",
    "    token_embeddings = torch.stack(encoded_layers, dim=0)\n",
    "\n",
    "    # Remove dimension 1, the \"batches\".\n",
    "    token_embeddingsHT = torch.squeeze(token_embeddingsHT, dim=1)\n",
    "    token_embeddings = torch.squeeze(token_embeddings, dim=1)\n",
    "\n",
    "    # Swap dimensions 0 and 1.\n",
    "    token_embeddingsHT = token_embeddingsHT.permute(1,0,2)\n",
    "    token_embeddings = token_embeddings.permute(1,0,2)\n",
    "\n",
    "    # `encoded_layers` has shape [12 x 1 x 23 x 768]\n",
    "\n",
    "    # `token_vecs` is a tensor with shape [23 x 768]\n",
    "    token_vecsHT = encoded_layersHT[11][0]\n",
    "    token_vecs = encoded_layers[11][0]\n",
    "\n",
    "    # Calculate the average of all 23 token vectors.\n",
    "    sentence_embeddingHT = torch.mean(token_vecsHT, dim=0)\n",
    "    sentence_embedding = torch.mean(token_vecs, dim=0)\n",
    "\n",
    "    heavytailed.append(sentence_embeddingHT.numpy())\n",
    "    normal.append(sentence_embedding.numpy())"
   ]
  },
  {
   "cell_type": "code",
   "execution_count": 4,
   "metadata": {},
   "outputs": [
    {
     "data": {
      "text/html": [
       "<div>\n",
       "<style scoped>\n",
       "    .dataframe tbody tr th:only-of-type {\n",
       "        vertical-align: middle;\n",
       "    }\n",
       "\n",
       "    .dataframe tbody tr th {\n",
       "        vertical-align: top;\n",
       "    }\n",
       "\n",
       "    .dataframe thead th {\n",
       "        text-align: right;\n",
       "    }\n",
       "</style>\n",
       "<table border=\"1\" class=\"dataframe\">\n",
       "  <thead>\n",
       "    <tr style=\"text-align: right;\">\n",
       "      <th></th>\n",
       "      <th>text</th>\n",
       "      <th>embeddings_heavytailed</th>\n",
       "      <th>embeddings_normal</th>\n",
       "    </tr>\n",
       "  </thead>\n",
       "  <tbody>\n",
       "    <tr>\n",
       "      <th>0</th>\n",
       "      <td>That game hurt.</td>\n",
       "      <td>[0.30054873, -0.34403887, 0.49052837, 0.355931...</td>\n",
       "      <td>[0.03866393, -0.3352241, 0.09783534, 0.4107893...</td>\n",
       "    </tr>\n",
       "    <tr>\n",
       "      <th>1</th>\n",
       "      <td>&gt;sexuality shouldn’t be a grouping category I...</td>\n",
       "      <td>[0.33468005, -0.49715105, 0.89346, 0.4685439, ...</td>\n",
       "      <td>[-0.0925654, -0.40961725, 0.73432565, 0.262471...</td>\n",
       "    </tr>\n",
       "    <tr>\n",
       "      <th>2</th>\n",
       "      <td>You do right, if you don't care then fuck 'em!</td>\n",
       "      <td>[0.41809124, -0.56398976, 0.5880229, 0.2924358...</td>\n",
       "      <td>[0.025010547, -0.29629883, 0.1804195, 0.364225...</td>\n",
       "    </tr>\n",
       "    <tr>\n",
       "      <th>3</th>\n",
       "      <td>Man I love reddit.</td>\n",
       "      <td>[0.2544118, -0.30285338, 0.4606152, 0.10065924...</td>\n",
       "      <td>[0.090971045, -0.18047546, 0.5608628, 0.029287...</td>\n",
       "    </tr>\n",
       "    <tr>\n",
       "      <th>4</th>\n",
       "      <td>[NAME] was nowhere near them, he was by the Fa...</td>\n",
       "      <td>[0.104422264, -0.29959264, 0.5575756, 0.153036...</td>\n",
       "      <td>[-0.24412851, -0.12715612, 0.09654636, 0.20951...</td>\n",
       "    </tr>\n",
       "  </tbody>\n",
       "</table>\n",
       "</div>"
      ],
      "text/plain": [
       "                                                text   \n",
       "0                                    That game hurt.  \\\n",
       "1   >sexuality shouldn’t be a grouping category I...   \n",
       "2     You do right, if you don't care then fuck 'em!   \n",
       "3                                 Man I love reddit.   \n",
       "4  [NAME] was nowhere near them, he was by the Fa...   \n",
       "\n",
       "                              embeddings_heavytailed   \n",
       "0  [0.30054873, -0.34403887, 0.49052837, 0.355931...  \\\n",
       "1  [0.33468005, -0.49715105, 0.89346, 0.4685439, ...   \n",
       "2  [0.41809124, -0.56398976, 0.5880229, 0.2924358...   \n",
       "3  [0.2544118, -0.30285338, 0.4606152, 0.10065924...   \n",
       "4  [0.104422264, -0.29959264, 0.5575756, 0.153036...   \n",
       "\n",
       "                                   embeddings_normal  \n",
       "0  [0.03866393, -0.3352241, 0.09783534, 0.4107893...  \n",
       "1  [-0.0925654, -0.40961725, 0.73432565, 0.262471...  \n",
       "2  [0.025010547, -0.29629883, 0.1804195, 0.364225...  \n",
       "3  [0.090971045, -0.18047546, 0.5608628, 0.029287...  \n",
       "4  [-0.24412851, -0.12715612, 0.09654636, 0.20951...  "
      ]
     },
     "execution_count": 4,
     "metadata": {},
     "output_type": "execute_result"
    }
   ],
   "source": [
    "new_df = df[:2000].copy()\n",
    "new_df[\"embeddings_heavytailed\"] = heavytailed\n",
    "new_df[\"embeddings_normal\"] = normal\n",
    "new_df.head()"
   ]
  },
  {
   "cell_type": "code",
   "execution_count": 5,
   "metadata": {},
   "outputs": [],
   "source": [
    "new_df.to_csv(\"/Users/cha/Desktop/Code/nlp-codes/nlp-intent-classification/data/full_dataset/goemotions_1_embeddings.csv\")"
   ]
  },
  {
   "cell_type": "code",
   "execution_count": 13,
   "metadata": {},
   "outputs": [
    {
     "data": {
      "image/png": "[encoded data removed]",
      "text/plain": [
       "<Figure size 640x480 with 1 Axes>"
      ]
     },
     "metadata": {},
     "output_type": "display_data"
    }
   ],
   "source": [
    "import matplotlib.pyplot as plt\n",
    "\n",
    "embedding = new_df.iloc[0][\"embeddings_normal\"]\n",
    "plt.hist(embedding, bins=40)\n",
    "plt.show()"
   ]
  },
  {
   "cell_type": "code",
   "execution_count": 33,
   "metadata": {},
   "outputs": [
    {
     "data": {
      "text/html": [
       "<div>\n",
       "<style scoped>\n",
       "    .dataframe tbody tr th:only-of-type {\n",
       "        vertical-align: middle;\n",
       "    }\n",
       "\n",
       "    .dataframe tbody tr th {\n",
       "        vertical-align: top;\n",
       "    }\n",
       "\n",
       "    .dataframe thead th {\n",
       "        text-align: right;\n",
       "    }\n",
       "</style>\n",
       "<table border=\"1\" class=\"dataframe\">\n",
       "  <thead>\n",
       "    <tr style=\"text-align: right;\">\n",
       "      <th></th>\n",
       "      <th>text</th>\n",
       "      <th>embeddings_heavytailed</th>\n",
       "      <th>embeddings_normal</th>\n",
       "      <th>norm</th>\n",
       "      <th>normHT</th>\n",
       "    </tr>\n",
       "  </thead>\n",
       "  <tbody>\n",
       "    <tr>\n",
       "      <th>0</th>\n",
       "      <td>That game hurt.</td>\n",
       "      <td>[0.30054873, -0.34403887, 0.49052837, 0.355931...</td>\n",
       "      <td>[0.03866393, -0.3352241, 0.09783534, 0.4107893...</td>\n",
       "      <td>7.233641</td>\n",
       "      <td>6.533833</td>\n",
       "    </tr>\n",
       "    <tr>\n",
       "      <th>1</th>\n",
       "      <td>&gt;sexuality shouldn’t be a grouping category I...</td>\n",
       "      <td>[0.33468005, -0.49715105, 0.89346, 0.4685439, ...</td>\n",
       "      <td>[-0.0925654, -0.40961725, 0.73432565, 0.262471...</td>\n",
       "      <td>8.612430</td>\n",
       "      <td>11.777950</td>\n",
       "    </tr>\n",
       "    <tr>\n",
       "      <th>2</th>\n",
       "      <td>You do right, if you don't care then fuck 'em!</td>\n",
       "      <td>[0.41809124, -0.56398976, 0.5880229, 0.2924358...</td>\n",
       "      <td>[0.025010547, -0.29629883, 0.1804195, 0.364225...</td>\n",
       "      <td>9.011077</td>\n",
       "      <td>9.238997</td>\n",
       "    </tr>\n",
       "    <tr>\n",
       "      <th>3</th>\n",
       "      <td>Man I love reddit.</td>\n",
       "      <td>[0.2544118, -0.30285338, 0.4606152, 0.10065924...</td>\n",
       "      <td>[0.090971045, -0.18047546, 0.5608628, 0.029287...</td>\n",
       "      <td>5.851167</td>\n",
       "      <td>6.904801</td>\n",
       "    </tr>\n",
       "    <tr>\n",
       "      <th>4</th>\n",
       "      <td>[NAME] was nowhere near them, he was by the Fa...</td>\n",
       "      <td>[0.104422264, -0.29959264, 0.5575756, 0.153036...</td>\n",
       "      <td>[-0.24412851, -0.12715612, 0.09654636, 0.20951...</td>\n",
       "      <td>7.451855</td>\n",
       "      <td>9.406238</td>\n",
       "    </tr>\n",
       "  </tbody>\n",
       "</table>\n",
       "</div>"
      ],
      "text/plain": [
       "                                                text   \n",
       "0                                    That game hurt.  \\\n",
       "1   >sexuality shouldn’t be a grouping category I...   \n",
       "2     You do right, if you don't care then fuck 'em!   \n",
       "3                                 Man I love reddit.   \n",
       "4  [NAME] was nowhere near them, he was by the Fa...   \n",
       "\n",
       "                              embeddings_heavytailed   \n",
       "0  [0.30054873, -0.34403887, 0.49052837, 0.355931...  \\\n",
       "1  [0.33468005, -0.49715105, 0.89346, 0.4685439, ...   \n",
       "2  [0.41809124, -0.56398976, 0.5880229, 0.2924358...   \n",
       "3  [0.2544118, -0.30285338, 0.4606152, 0.10065924...   \n",
       "4  [0.104422264, -0.29959264, 0.5575756, 0.153036...   \n",
       "\n",
       "                                   embeddings_normal      norm     normHT  \n",
       "0  [0.03866393, -0.3352241, 0.09783534, 0.4107893...  7.233641   6.533833  \n",
       "1  [-0.0925654, -0.40961725, 0.73432565, 0.262471...  8.612430  11.777950  \n",
       "2  [0.025010547, -0.29629883, 0.1804195, 0.364225...  9.011077   9.238997  \n",
       "3  [0.090971045, -0.18047546, 0.5608628, 0.029287...  5.851167   6.904801  \n",
       "4  [-0.24412851, -0.12715612, 0.09654636, 0.20951...  7.451855   9.406238  "
      ]
     },
     "execution_count": 33,
     "metadata": {},
     "output_type": "execute_result"
    }
   ],
   "source": [
    "new_df[\"normHT\"] = new_df[\"embeddings_heavytailed\"].apply(lambda x: torch.norm(torch.Tensor(x), p=2).item())\n",
    "new_df[\"norm\"] = new_df[\"embeddings_normal\"].apply(lambda x: torch.norm(torch.Tensor(x), p=2).item())\n",
    "new_df.head()"
   ]
  },
  {
   "cell_type": "code",
   "execution_count": 34,
   "metadata": {},
   "outputs": [
    {
     "data": {
      "text/plain": [
       "<Axes: >"
      ]
     },
     "execution_count": 34,
     "metadata": {},
     "output_type": "execute_result"
    },
    {
     "data": {
      "image/png": "[encoded data removed]",
      "text/plain": [
       "<Figure size 640x480 with 1 Axes>"
      ]
     },
     "metadata": {},
     "output_type": "display_data"
    }
   ],
   "source": [
    "new_df[\"norm\"].hist(bins=40)"
   ]
  },
  {
   "cell_type": "code",
   "execution_count": 35,
   "metadata": {},
   "outputs": [
    {
     "data": {
      "text/plain": [
       "<Axes: >"
      ]
     },
     "execution_count": 35,
     "metadata": {},
     "output_type": "execute_result"
    },
    {
     "data": {
      "image/png": "[encoded data removed]",
      "text/plain": [
       "<Figure size 640x480 with 1 Axes>"
      ]
     },
     "metadata": {},
     "output_type": "display_data"
    }
   ],
   "source": [
    "new_df[\"normHT\"].hist(bins=40)"
   ]
  }
 ],
 "metadata": {
  "kernelspec": {
   "display_name": "anlp",
   "language": "python",
   "name": "python3"
  },
  "language_info": {
   "codemirror_mode": {
    "name": "ipython",
    "version": 3
   },
   "file_extension": ".py",
   "mimetype": "text/x-python",
   "name": "python",
   "nbconvert_exporter": "python",
   "pygments_lexer": "ipython3",
   "version": "3.8.16"
  },
  "orig_nbformat": 4
 },
 "nbformat": 4,
 "nbformat_minor": 2
}
